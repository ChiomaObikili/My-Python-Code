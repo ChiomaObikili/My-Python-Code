{
 "cells": [
  {
   "cell_type": "markdown",
   "id": "620b0fa4-384c-4032-8139-2a98affa6ea2",
   "metadata": {},
   "source": [
    "# CONTENTS\n",
    "1 Importing libraries\n",
    "2 Importing data\n",
    "3 busiest days and hours of the day\n",
    "4 price range\n",
    "5 Exporting data"
   ]
  },
  {
   "cell_type": "code",
   "execution_count": 1,
   "id": "9fd5b208-c7d1-4cc5-8745-5d2ab7bdbc9d",
   "metadata": {},
   "outputs": [],
   "source": [
    "# importing libraries\n",
    "import pandas as pd\n",
    "import numpy as np\n",
    "import os\n",
    "import matplotlib.pyplot as plt\n",
    "import seaborn as sns\n",
    "import scipy"
   ]
  },
  {
   "cell_type": "code",
   "execution_count": 2,
   "id": "a6839165-beea-4fe8-b2fa-fdbe97d8e18b",
   "metadata": {},
   "outputs": [],
   "source": [
    "path = r'D:\\DATA ANALYSIS\\Achievement 4 project 29-04-2025\\03 Scripts\\Prepared Folder\\df_ords_large.pkl'"
   ]
  },
  {
   "cell_type": "code",
   "execution_count": 3,
   "id": "5ed2f389-1870-4775-8934-225a45ef0a59",
   "metadata": {},
   "outputs": [
    {
     "data": {
      "text/plain": [
       "'D:\\\\DATA ANALYSIS\\\\Achievement 4 project 29-04-2025\\\\03 Scripts\\\\Prepared Folder\\\\df_ords_large.pkl'"
      ]
     },
     "execution_count": 3,
     "metadata": {},
     "output_type": "execute_result"
    }
   ],
   "source": [
    "path"
   ]
  },
  {
   "cell_type": "code",
   "execution_count": 4,
   "id": "1e622b04-5bcc-4436-9cf2-c2aded14c791",
   "metadata": {},
   "outputs": [],
   "source": [
    "df_ords = pd.read_pickle(path)"
   ]
  },
  {
   "cell_type": "code",
   "execution_count": 5,
   "id": "723d57a6-6403-4d02-86e0-4934cb137b0c",
   "metadata": {},
   "outputs": [],
   "source": [
    "df_ords_2 = df_ords.drop(columns = ['first name', 'surname'])   # dropping columns PII data protection"
   ]
  },
  {
   "cell_type": "code",
   "execution_count": 15,
   "id": "756810ba-648b-43a5-a16e-f808de85d398",
   "metadata": {},
   "outputs": [
    {
     "data": {
      "text/html": [
       "<div>\n",
       "<style scoped>\n",
       "    .dataframe tbody tr th:only-of-type {\n",
       "        vertical-align: middle;\n",
       "    }\n",
       "\n",
       "    .dataframe tbody tr th {\n",
       "        vertical-align: top;\n",
       "    }\n",
       "\n",
       "    .dataframe thead th {\n",
       "        text-align: right;\n",
       "    }\n",
       "</style>\n",
       "<table border=\"1\" class=\"dataframe\">\n",
       "  <thead>\n",
       "    <tr style=\"text-align: right;\">\n",
       "      <th></th>\n",
       "      <th>Unnamed: 0.1</th>\n",
       "      <th>Unnamed: 0_x</th>\n",
       "      <th>order_id</th>\n",
       "      <th>user_id</th>\n",
       "      <th>order_number</th>\n",
       "      <th>orders_day_of_week</th>\n",
       "      <th>order_hour_of_day</th>\n",
       "      <th>days_since_prior_order</th>\n",
       "      <th>product_id</th>\n",
       "      <th>add_to_cart_order</th>\n",
       "      <th>...</th>\n",
       "      <th>order_frequency_flag</th>\n",
       "      <th>gender</th>\n",
       "      <th>state</th>\n",
       "      <th>age</th>\n",
       "      <th>date_joined</th>\n",
       "      <th>n_dependants</th>\n",
       "      <th>fam_status</th>\n",
       "      <th>income</th>\n",
       "      <th>True</th>\n",
       "      <th>day_of_week</th>\n",
       "    </tr>\n",
       "  </thead>\n",
       "  <tbody>\n",
       "    <tr>\n",
       "      <th>0</th>\n",
       "      <td>0</td>\n",
       "      <td>0</td>\n",
       "      <td>2539329</td>\n",
       "      <td>1</td>\n",
       "      <td>1</td>\n",
       "      <td>2</td>\n",
       "      <td>8</td>\n",
       "      <td>NaN</td>\n",
       "      <td>196</td>\n",
       "      <td>1</td>\n",
       "      <td>...</td>\n",
       "      <td>Non-frequent customer</td>\n",
       "      <td>Female</td>\n",
       "      <td>Alabama</td>\n",
       "      <td>31</td>\n",
       "      <td>2/17/2019</td>\n",
       "      <td>3</td>\n",
       "      <td>married</td>\n",
       "      <td>40423</td>\n",
       "      <td>both</td>\n",
       "      <td>Monday</td>\n",
       "    </tr>\n",
       "    <tr>\n",
       "      <th>1</th>\n",
       "      <td>1</td>\n",
       "      <td>1</td>\n",
       "      <td>2398795</td>\n",
       "      <td>1</td>\n",
       "      <td>2</td>\n",
       "      <td>3</td>\n",
       "      <td>7</td>\n",
       "      <td>15.0</td>\n",
       "      <td>196</td>\n",
       "      <td>1</td>\n",
       "      <td>...</td>\n",
       "      <td>Non-frequent customer</td>\n",
       "      <td>Female</td>\n",
       "      <td>Alabama</td>\n",
       "      <td>31</td>\n",
       "      <td>2/17/2019</td>\n",
       "      <td>3</td>\n",
       "      <td>married</td>\n",
       "      <td>40423</td>\n",
       "      <td>both</td>\n",
       "      <td>Tuesday</td>\n",
       "    </tr>\n",
       "    <tr>\n",
       "      <th>2</th>\n",
       "      <td>2</td>\n",
       "      <td>2</td>\n",
       "      <td>473747</td>\n",
       "      <td>1</td>\n",
       "      <td>3</td>\n",
       "      <td>3</td>\n",
       "      <td>12</td>\n",
       "      <td>21.0</td>\n",
       "      <td>196</td>\n",
       "      <td>1</td>\n",
       "      <td>...</td>\n",
       "      <td>Non-frequent customer</td>\n",
       "      <td>Female</td>\n",
       "      <td>Alabama</td>\n",
       "      <td>31</td>\n",
       "      <td>2/17/2019</td>\n",
       "      <td>3</td>\n",
       "      <td>married</td>\n",
       "      <td>40423</td>\n",
       "      <td>both</td>\n",
       "      <td>Tuesday</td>\n",
       "    </tr>\n",
       "    <tr>\n",
       "      <th>3</th>\n",
       "      <td>3</td>\n",
       "      <td>3</td>\n",
       "      <td>2254736</td>\n",
       "      <td>1</td>\n",
       "      <td>4</td>\n",
       "      <td>4</td>\n",
       "      <td>7</td>\n",
       "      <td>29.0</td>\n",
       "      <td>196</td>\n",
       "      <td>1</td>\n",
       "      <td>...</td>\n",
       "      <td>Non-frequent customer</td>\n",
       "      <td>Female</td>\n",
       "      <td>Alabama</td>\n",
       "      <td>31</td>\n",
       "      <td>2/17/2019</td>\n",
       "      <td>3</td>\n",
       "      <td>married</td>\n",
       "      <td>40423</td>\n",
       "      <td>both</td>\n",
       "      <td>Wednesday</td>\n",
       "    </tr>\n",
       "    <tr>\n",
       "      <th>4</th>\n",
       "      <td>4</td>\n",
       "      <td>4</td>\n",
       "      <td>431534</td>\n",
       "      <td>1</td>\n",
       "      <td>5</td>\n",
       "      <td>4</td>\n",
       "      <td>15</td>\n",
       "      <td>28.0</td>\n",
       "      <td>196</td>\n",
       "      <td>1</td>\n",
       "      <td>...</td>\n",
       "      <td>Non-frequent customer</td>\n",
       "      <td>Female</td>\n",
       "      <td>Alabama</td>\n",
       "      <td>31</td>\n",
       "      <td>2/17/2019</td>\n",
       "      <td>3</td>\n",
       "      <td>married</td>\n",
       "      <td>40423</td>\n",
       "      <td>both</td>\n",
       "      <td>Wednesday</td>\n",
       "    </tr>\n",
       "  </tbody>\n",
       "</table>\n",
       "<p>5 rows × 41 columns</p>\n",
       "</div>"
      ],
      "text/plain": [
       "   Unnamed: 0.1  Unnamed: 0_x  order_id  user_id  order_number  \\\n",
       "0             0             0   2539329        1             1   \n",
       "1             1             1   2398795        1             2   \n",
       "2             2             2    473747        1             3   \n",
       "3             3             3   2254736        1             4   \n",
       "4             4             4    431534        1             5   \n",
       "\n",
       "   orders_day_of_week  order_hour_of_day  days_since_prior_order  product_id  \\\n",
       "0                   2                  8                     NaN         196   \n",
       "1                   3                  7                    15.0         196   \n",
       "2                   3                 12                    21.0         196   \n",
       "3                   4                  7                    29.0         196   \n",
       "4                   4                 15                    28.0         196   \n",
       "\n",
       "   add_to_cart_order  ...   order_frequency_flag  gender    state age  \\\n",
       "0                  1  ...  Non-frequent customer  Female  Alabama  31   \n",
       "1                  1  ...  Non-frequent customer  Female  Alabama  31   \n",
       "2                  1  ...  Non-frequent customer  Female  Alabama  31   \n",
       "3                  1  ...  Non-frequent customer  Female  Alabama  31   \n",
       "4                  1  ...  Non-frequent customer  Female  Alabama  31   \n",
       "\n",
       "   date_joined  n_dependants  fam_status income  True day_of_week  \n",
       "0    2/17/2019             3     married  40423  both      Monday  \n",
       "1    2/17/2019             3     married  40423  both     Tuesday  \n",
       "2    2/17/2019             3     married  40423  both     Tuesday  \n",
       "3    2/17/2019             3     married  40423  both   Wednesday  \n",
       "4    2/17/2019             3     married  40423  both   Wednesday  \n",
       "\n",
       "[5 rows x 41 columns]"
      ]
     },
     "execution_count": 15,
     "metadata": {},
     "output_type": "execute_result"
    }
   ],
   "source": [
    "df_ords_2.head()"
   ]
  },
  {
   "cell_type": "markdown",
   "id": "8e866a9c-1529-486f-be82-e438555a94e6",
   "metadata": {},
   "source": [
    "# busiest days and hours of the day"
   ]
  },
  {
   "cell_type": "code",
   "execution_count": 6,
   "id": "d0611bd5-48f7-47cf-b534-df3389e4d55d",
   "metadata": {},
   "outputs": [],
   "source": [
    "#defining a function\n",
    "\n",
    "day_of_week = []\n",
    "for value in df_ords_2['orders_day_of_week']:\n",
    "    if value == 0:\n",
    "        day_of_week.append('Saturday')\n",
    "    elif value == 1:\n",
    "        day_of_week.append('Sunday')\n",
    "    elif value == 2:\n",
    "        day_of_week.append('Monday')\n",
    "    elif value == 3:\n",
    "        day_of_week.append('Tuesday')\n",
    "    elif value == 4:\n",
    "        day_of_week.append('Wednesday')\n",
    "    elif value == 5:\n",
    "        day_of_week.append('Thursday')\n",
    "    elif value == 6:\n",
    "        day_of_week.append('Friday')\n",
    "\n",
    "df_ords_2['day_of_week'] = day_of_week"
   ]
  },
  {
   "cell_type": "code",
   "execution_count": 8,
   "id": "0f8f4f3a-22c1-4100-9eea-1a35cf257064",
   "metadata": {},
   "outputs": [
    {
     "data": {
      "text/plain": [
       "day_of_week\n",
       "Saturday     6209632\n",
       "Sunday       5665830\n",
       "Friday       4500246\n",
       "Monday       4217766\n",
       "Thursday     4209449\n",
       "Tuesday      3844096\n",
       "Wednesday    3787193\n",
       "Name: count, dtype: int64"
      ]
     },
     "execution_count": 8,
     "metadata": {},
     "output_type": "execute_result"
    }
   ],
   "source": [
    "df_ords_2['day_of_week'].value_counts(dropna= False)"
   ]
  },
  {
   "cell_type": "code",
   "execution_count": 12,
   "id": "9d8bb6c6-f6c7-45d0-bd63-557dfcf32472",
   "metadata": {},
   "outputs": [
    {
     "data": {
      "text/plain": [
       "Text(0, 0.5, 'Order Counts')"
      ]
     },
     "execution_count": 12,
     "metadata": {},
     "output_type": "execute_result"
    },
    {
     "data": {
      "image/png": "[encoded data removed]",
      "text/plain": [
       "<Figure size 640x480 with 1 Axes>"
      ]
     },
     "metadata": {},
     "output_type": "display_data"
    }
   ],
   "source": [
    "bar = df_ords_2['day_of_week'].value_counts().plot.bar(color = ['red', 'yellow', 'green', 'blue', 'purple', 'orange', 'brown'])\n",
    "\n",
    "# Add title and labels\n",
    "plt.title('busiest days of the week')\n",
    "plt.xlabel('Day of Week')\n",
    "plt.ylabel('Order Counts')"
   ]
  },
  {
   "cell_type": "markdown",
   "id": "69a644ff-4dbb-4258-924e-b8b999063968",
   "metadata": {},
   "source": [
    "# This means the busiest days are saturday and sunday."
   ]
  },
  {
   "cell_type": "code",
   "execution_count": 13,
   "id": "a6c414a6-2fff-49d0-b9d6-ddffdbf4d452",
   "metadata": {},
   "outputs": [],
   "source": [
    "path = r'D:\\DATA ANALYSIS\\Achievement 4 project 29-04-2025\\04 Analysis\\Visualizations'"
   ]
  },
  {
   "cell_type": "code",
   "execution_count": 14,
   "id": "83dfa94a-917c-4a6e-9a82-5cb571e23bb2",
   "metadata": {},
   "outputs": [],
   "source": [
    "bar.figure.savefig(os.path.join(path, 'busiest_days.png'))  # exporting graph"
   ]
  },
  {
   "cell_type": "code",
   "execution_count": 23,
   "id": "706c99b7-575c-48b7-979a-0b424f10d4cb",
   "metadata": {},
   "outputs": [],
   "source": [
    "# Define the function for the busiest hours\n",
    "def get_busiest_hours(order_counts_dict, top_n=5):\n",
    "    sorted_hours = sorted(order_counts_dict.items(), key=lambda x: x[1], reverse=True)\n",
    "    return sorted_hours[:top_n]"
   ]
  },
  {
   "cell_type": "code",
   "execution_count": 24,
   "id": "837b3d88-0868-4ca8-9d82-6fd1c4fffe81",
   "metadata": {},
   "outputs": [],
   "source": [
    "order_counts = {\n",
    "    10: 2764390, 11: 2738585, 14: 2691563, 15: 2664522, 13: 2663272,\n",
    "    12: 2620800, 16: 2537469, 9: 2456661, 17: 2089452, 8: 1719952,\n",
    "    18: 1637922, 19: 1259382, 20: 977017, 7: 891928, 21: 796362,\n",
    "    22: 634737, 23: 402612, 6: 290770, 0: 218942, 1: 115786,\n",
    "    5: 88057, 2: 69431, 4: 53283, 3: 51317\n",
    "}"
   ]
  },
  {
   "cell_type": "code",
   "execution_count": 25,
   "id": "39300f89-1421-4426-96a3-ad5aba725934",
   "metadata": {},
   "outputs": [],
   "source": [
    "top_hours = get_busiest_hours(order_counts, top_n=5)"
   ]
  },
  {
   "cell_type": "code",
   "execution_count": 26,
   "id": "657f10a3-98b7-409c-ad17-8933da094839",
   "metadata": {},
   "outputs": [
    {
     "name": "stdout",
     "output_type": "stream",
     "text": [
      "Top 5 busiest order hours:\n",
      "10:00 - 2764390 orders\n",
      "11:00 - 2738585 orders\n",
      "14:00 - 2691563 orders\n",
      "15:00 - 2664522 orders\n",
      "13:00 - 2663272 orders\n"
     ]
    }
   ],
   "source": [
    "print(\"Top 5 busiest order hours:\")\n",
    "for hour, count in top_hours:\n",
    "    print(f\"{hour}:00 - {count} orders\")\n"
   ]
  },
  {
   "cell_type": "code",
   "execution_count": 29,
   "id": "beaefaac-bc9c-428e-befe-1017a52486a4",
   "metadata": {},
   "outputs": [
    {
     "data": {
      "text/plain": [
       "Text(0, 0.5, 'Order Counts')"
      ]
     },
     "execution_count": 29,
     "metadata": {},
     "output_type": "execute_result"
    },
    {
     "data": {
      "image/png": "[encoded data removed]",
      "text/plain": [
       "<Figure size 640x480 with 1 Axes>"
      ]
     },
     "metadata": {},
     "output_type": "display_data"
    }
   ],
   "source": [
    "# Convert to a pandas Series for easy plotting\n",
    "top_hours_series = pd.Series(\n",
    "    data=[count for hour, count in top_hours],\n",
    "    index=[f\"{hour}:00\" for hour, count in top_hours]\n",
    ")\n",
    "\n",
    "# Plot\n",
    "colors = ['green', 'blue', 'purple', 'orange', 'brown']\n",
    "ax = top_hours_series.plot.bar(color=colors)\n",
    "\n",
    "# Add title and labels\n",
    "plt.title('Top 5 busiest order hours')\n",
    "plt.xlabel('Day of Week')\n",
    "plt.ylabel('Order Counts')"
   ]
  },
  {
   "cell_type": "code",
   "execution_count": 30,
   "id": "eba70e09-b023-4d1b-acb6-d77de3360c0f",
   "metadata": {},
   "outputs": [],
   "source": [
    "ax.figure.savefig(os.path.join(path, 'busiest_hours.png'))  # exporting graph"
   ]
  },
  {
   "cell_type": "markdown",
   "id": "a71b2bb6-6d8c-487e-b258-ffd376877af8",
   "metadata": {},
   "source": [
    "# This means the busiest hours are 10 AM, 11 AM, 2 PM, 3 PM, and 1 PM.\n"
   ]
  },
  {
   "cell_type": "code",
   "execution_count": 32,
   "id": "5ec8cde1-23e3-4317-aeef-70aec390a835",
   "metadata": {},
   "outputs": [],
   "source": [
    "def price_label(row):\n",
    "\n",
    "  if row['prices'] <= 5:\n",
    "    return 'Low-range product'\n",
    "  elif (row['prices'] > 5) and (row['prices'] <= 15):\n",
    "    return 'Mid-range product'\n",
    "  elif row['prices'] > 15:\n",
    "    return 'High range'\n",
    "  else: return 'Not enough data'"
   ]
  },
  {
   "cell_type": "code",
   "execution_count": 33,
   "id": "60f8ae41-dfc8-4528-aa21-f4846acc7b28",
   "metadata": {},
   "outputs": [],
   "source": [
    "df_ords_2 = df_ords_2[df_ords_2['department_id'] == 4].copy()           # defining a function"
   ]
  },
  {
   "cell_type": "code",
   "execution_count": 34,
   "id": "3464c6dd-5955-4b63-8810-003b8a1065ca",
   "metadata": {},
   "outputs": [],
   "source": [
    "df_ords_2['price_range'] = df_ords_2.apply(price_label, axis=1)   #  Apply your price_label function row-wise"
   ]
  },
  {
   "cell_type": "code",
   "execution_count": 35,
   "id": "ddc8bf92-a562-4697-9e4a-526440884ec9",
   "metadata": {},
   "outputs": [
    {
     "data": {
      "text/plain": [
       "price_range\n",
       "Mid-range product    6781408\n",
       "Low-range product    2697883\n",
       "Name: count, dtype: int64"
      ]
     },
     "execution_count": 35,
     "metadata": {},
     "output_type": "execute_result"
    }
   ],
   "source": [
    "df_ords_2['price_range'].value_counts(dropna = False)          # checking the values in the new column."
   ]
  },
  {
   "cell_type": "markdown",
   "id": "17854c48-945d-4c1f-8b10-2256a73dd6b3",
   "metadata": {},
   "source": [
    "# The data shows that mid-range products are significantly more popular, with about 6.8 million orders compared to 2.7 million for low-range products. This suggests that customers tend to prefer mid-priced items, possibly due to perceived value or product availability. It may also indicate that your product mix or pricing strategy favors mid-range offerings."
   ]
  },
  {
   "cell_type": "code",
   "execution_count": 37,
   "id": "f3722777-2595-40d6-bead-dc0842aafe90",
   "metadata": {},
   "outputs": [
    {
     "data": {
      "text/plain": [
       "Text(0.5, 1.0, 'price_range')"
      ]
     },
     "execution_count": 37,
     "metadata": {},
     "output_type": "execute_result"
    },
    {
     "data": {
      "image/png": "[encoded data removed]",
      "text/plain": [
       "<Figure size 640x480 with 1 Axes>"
      ]
     },
     "metadata": {},
     "output_type": "display_data"
    }
   ],
   "source": [
    "bar = df_ords_2['price_range'].value_counts().plot.bar(color = (['purple', 'orange', 'brown']))\n",
    "\n",
    "# Add title and labels\n",
    "plt.title('price_range')\n"
   ]
  },
  {
   "cell_type": "code",
   "execution_count": 38,
   "id": "53c92409-1fd6-4e22-a604-cdc02129d1f9",
   "metadata": {},
   "outputs": [],
   "source": [
    "bar.figure.savefig(os.path.join(path, 'price_range.png'))  # exporting graph"
   ]
  },
  {
   "cell_type": "code",
   "execution_count": 40,
   "id": "bfb94ec9-75e4-4aff-b813-238cd92e035a",
   "metadata": {},
   "outputs": [],
   "source": [
    "# exporting to pickle\n",
    "df_ords.to_pickle(os.path.join(path, 'df_ords_2_b.pickle'))"
   ]
  },
  {
   "cell_type": "code",
   "execution_count": null,
   "id": "fb63c75c-4c86-4d58-a3c0-bbcc8145cb96",
   "metadata": {},
   "outputs": [],
   "source": []
  }
 ],
 "metadata": {
  "kernelspec": {
   "display_name": "Python [conda env:base] *",
   "language": "python",
   "name": "conda-base-py"
  },
  "language_info": {
   "codemirror_mode": {
    "name": "ipython",
    "version": 3
   },
   "file_extension": ".py",
   "mimetype": "text/x-python",
   "name": "python",
   "nbconvert_exporter": "python",
   "pygments_lexer": "ipython3",
   "version": "3.12.7"
  }
 },
 "nbformat": 4,
 "nbformat_minor": 5
}
