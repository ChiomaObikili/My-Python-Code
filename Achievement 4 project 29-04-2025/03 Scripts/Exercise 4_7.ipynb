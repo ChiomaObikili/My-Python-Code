{
 "cells": [
  {
   "cell_type": "code",
   "execution_count": 1,
   "id": "15e50988-f5dd-4f69-a82e-36e994b7620b",
   "metadata": {},
   "outputs": [],
   "source": [
    "# Import Libraries\n",
    "import pandas as pd\n",
    "import numpy as np\n",
    "import os\n"
   ]
  },
  {
   "cell_type": "markdown",
   "id": "0acb6840-faad-4444-b57c-b370386b8656",
   "metadata": {},
   "source": [
    "# Importing ords_prods_merge"
   ]
  },
  {
   "cell_type": "code",
   "execution_count": 2,
   "id": "a50828c9-cb53-4af0-af0a-379c4a248664",
   "metadata": {},
   "outputs": [],
   "source": [
    "path = r'J:\\DATA ANALYSIS\\Achievement 4 project 29-04-2025\\03 Scripts\\Prepared Folder\\ords_prods_merge.pkl'"
   ]
  },
  {
   "cell_type": "code",
   "execution_count": 4,
   "id": "39ab1b7e-8966-4599-8721-2685af69b76b",
   "metadata": {},
   "outputs": [
    {
     "data": {
      "text/plain": [
       "'J:\\\\DATA ANALYSIS\\\\Achievement 4 project 29-04-2025\\\\03 Scripts\\\\Prepared Folder\\\\ords_prods_merge.pkl'"
      ]
     },
     "execution_count": 4,
     "metadata": {},
     "output_type": "execute_result"
    }
   ],
   "source": [
    "path"
   ]
  },
  {
   "cell_type": "code",
   "execution_count": 5,
   "id": "979e2c00-f7eb-4242-b422-01bf3d03bd4b",
   "metadata": {},
   "outputs": [],
   "source": [
    "df_ords_prods_merge = pd.read_pickle(os.path.join(path))"
   ]
  },
  {
   "cell_type": "code",
   "execution_count": 7,
   "id": "6ecd646c-fe48-411a-9563-142017753de5",
   "metadata": {},
   "outputs": [],
   "source": [
    "df = df_ords_prods_merge[:1000000]                                                   # To create this subset"
   ]
  },
  {
   "cell_type": "code",
   "execution_count": 8,
   "id": "a16b9ee8-c18a-45d5-b07a-63216ea836b8",
   "metadata": {},
   "outputs": [
    {
     "data": {
      "text/plain": [
       "(1000000, 18)"
      ]
     },
     "execution_count": 8,
     "metadata": {},
     "output_type": "execute_result"
    }
   ],
   "source": [
    "df.shape      # to check subset"
   ]
  },
  {
   "cell_type": "code",
   "execution_count": 9,
   "id": "5c0b8599-eef5-49bc-a6ae-ee79fb3f748c",
   "metadata": {},
   "outputs": [],
   "source": [
    "def price_label(row):\n",
    "\n",
    "  if row['prices'] <= 5:\n",
    "    return 'Low-range product'\n",
    "  elif (row['prices'] > 5) and (row['prices'] <= 15):\n",
    "    return 'Mid-range product'\n",
    "  elif row['prices'] > 15:\n",
    "    return 'High range'\n",
    "  else: return 'Not enough data'"
   ]
  },
  {
   "cell_type": "code",
   "execution_count": 16,
   "id": "eb00f4f6-ce59-4d01-8303-b81667f3956b",
   "metadata": {},
   "outputs": [],
   "source": [
    "df_sub = df[df['department_id'] == 4].copy()           # Create a proper copy of the subset"
   ]
  },
  {
   "cell_type": "code",
   "execution_count": 17,
   "id": "a0ecc6d3-e8de-4d99-a4da-0f2113719396",
   "metadata": {},
   "outputs": [],
   "source": [
    "df_sub['price_range'] = df_sub.apply(price_label, axis=1)   #  Apply your price_label function row-wise"
   ]
  },
  {
   "cell_type": "code",
   "execution_count": 15,
   "id": "07b244c9-00ed-441d-906d-b6d5392d5bb1",
   "metadata": {},
   "outputs": [
    {
     "data": {
      "text/plain": [
       "price_range\n",
       "Mid-range product    570145\n",
       "Low-range product     40939\n",
       "Name: count, dtype: int64"
      ]
     },
     "execution_count": 15,
     "metadata": {},
     "output_type": "execute_result"
    }
   ],
   "source": [
    "df['price_range'].value_counts(dropna = False)          # checking the values in the new column."
   ]
  },
  {
   "cell_type": "code",
   "execution_count": null,
   "id": "8f52bc7a-f3f4-468b-bf7a-6b38f6721a80",
   "metadata": {},
   "outputs": [],
   "source": []
  }
 ],
 "metadata": {
  "kernelspec": {
   "display_name": "Python [conda env:base] *",
   "language": "python",
   "name": "conda-base-py"
  },
  "language_info": {
   "codemirror_mode": {
    "name": "ipython",
    "version": 3
   },
   "file_extension": ".py",
   "mimetype": "text/x-python",
   "name": "python",
   "nbconvert_exporter": "python",
   "pygments_lexer": "ipython3",
   "version": "3.12.7"
  }
 },
 "nbformat": 4,
 "nbformat_minor": 5
}
